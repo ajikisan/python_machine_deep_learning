{
  "nbformat": 4,
  "nbformat_minor": 0,
  "metadata": {
    "colab": {
      "provenance": [],
      "collapsed_sections": []
    },
    "kernelspec": {
      "name": "python3",
      "display_name": "Python 3"
    },
    "language_info": {
      "name": "python"
    }
  },
  "cells": [
    {
      "cell_type": "code",
      "execution_count": 13,
      "metadata": {
        "id": "p-8KthdNwnre"
      },
      "outputs": [],
      "source": [
        "#Implentação de uma rede machine learning para reconhecer dígitos\n",
        "#importacao de bibliotecas\n",
        "import numpy as np\n",
        "import torch\n",
        "import torch.nn.functional as F\n",
        "import torchvision\n",
        "import matplotlib.pyplot as plt\n",
        "from time import time\n",
        "from torchvision import datasets, transforms\n",
        "from torch import nn, optim\n"
      ]
    },
    {
      "cell_type": "code",
      "source": [
        "#Baixa de imagens do site https://www.tensorflow.org/datasets/catalog/mnist\n",
        "\n",
        "transform = transforms.ToTensor()  #definindo  a conversão de imagens para Tensor\n",
        "\n",
        "trainset = datasets.MNIST('.MNIST_data', download=True, train=True, transform=transform) #carrega a parte de treino do dataset\n",
        "trainloader = torch.utils.data.DataLoader(trainset,batch_size=64, shuffle =True) #Cria um buffer para pegar os dados por partes\n",
        "\n",
        "valset = datasets.MNIST('./MINIST_data', download=True, train=False, transform=transform) #Carrega a parte de validação do dataset\n",
        "valloader = torch.utils.data.DataLoader(valset,batch_size=64,shuffle=True) #Cria um buffer para pegar os dados por partes\n"
      ],
      "metadata": {
        "id": "rwXkLNdzxmyZ"
      },
      "execution_count": 14,
      "outputs": []
    },
    {
      "cell_type": "code",
      "source": [
        "#Criação de função para demonstrar o dígito da imagem\n",
        "dataiter = iter(trainloader)\n",
        "imagens, etiquetas = dataiter.next()\n",
        "plt.imshow(imagens[0].numpy().squeeze(),cmap='gray');\n"
      ],
      "metadata": {
        "colab": {
          "base_uri": "https://localhost:8080/",
          "height": 265
        },
        "id": "ePLkkJIH0HNe",
        "outputId": "53661fb4-ed79-4c0e-fa1c-b0376d5322c2"
      },
      "execution_count": 5,
      "outputs": [
        {
          "output_type": "display_data",
          "data": {
            "text/plain": [
              "<Figure size 432x288 with 1 Axes>"
            ],
            "image/png": "[encoded data removed]"
          },
          "metadata": {
            "needs_background": "light"
          }
        }
      ]
    },
    {
      "cell_type": "code",
      "source": [
        "#Conferir o tamanho da imagem\n",
        "print(imagens[0].shape) #para verificar as dimensões do tensor de cada imagem\n",
        "print(etiquetas[0].shape) #para verificar as dimensões do tensor de cada etiqueta\n",
        "\n",
        "#torch.Size([1,28,28]) dimesão 1 28 por 28\n",
        "#torch.Size([])\n",
        "\n"
      ],
      "metadata": {
        "colab": {
          "base_uri": "https://localhost:8080/"
        },
        "id": "uFjzSAEO1FC_",
        "outputId": "4aef7d1b-151a-4f36-bcbf-ab8ed9fdfcbd"
      },
      "execution_count": 15,
      "outputs": [
        {
          "output_type": "stream",
          "name": "stdout",
          "text": [
            "torch.Size([1, 28, 28])\n",
            "torch.Size([])\n"
          ]
        }
      ]
    },
    {
      "cell_type": "code",
      "source": [
        "#Utilização do inceptions https://keras.io/api/applications/inceptionv3/\n",
        "class Modelo(nn.Module):\n",
        "  def __init__(self):\n",
        "    super(Modelo, self).__init__()\n",
        "    self.linear1 = nn.Linear(28*28, 128) #camada de entrada, 784 neurônios que se ligam a 128\n",
        "    self.linear2 = nn.Linear(128, 64) #camada interna 1, 128 neurônios que se ligam a 64\n",
        "    self.linear3 = nn.Linear(64, 10) #camada interna 2, 64 neurônios que se ligam a 10\n",
        "    # para a camada de saída não é necessário definir nada, pois só precisa pegar o output da camada interna 2\n",
        "\n",
        "  def forward(self, X):\n",
        "    X = F.relu(self.linear1(X)) #função de ativação da camada de entrada para a camada interna 1\n",
        "    X = F.relu(self.linear2(X)) #função de ativação da camada interna 1 para a camada interna 2\n",
        "    X = F.linear3(X)  #função de ativação da camada interna 2 para a camada de saída, nesse caso f(X) = X\n",
        "    return F.log_softmax(X, dim=1) #dados utilizados para calcular a perda\n"
      ],
      "metadata": {
        "id": "xatJprqg18ip"
      },
      "execution_count": 16,
      "outputs": []
    },
    {
      "cell_type": "code",
      "source": [
        "#Treinamento da rede neural\n",
        "def treino(modelo, trainloader, device):\n",
        "  otimizador = optim.SGD(modelo.parameters(),lr=0.01,momentun=0.5) #define a política de atualização dos pesos e das BIAS\n",
        "  inicio = time() #timer para saber quanto tempo levou o treino\n",
        "\n",
        "  criterio = nn.NLLLoss() #definindo o criterio para calcular a perda\n",
        "  EPOCHS = 10 #numero de epochs que o algoritmo executará\n",
        "  modelo.train() #ativando o modo de treinamento do modelo\n",
        "\n",
        "  for epoch in range(EPOCHS):\n",
        "    perda_acumalada = 0 #inicialização da perda acumulada da epoch em questão\n",
        "\n",
        "    for imagens, etiquetas in trainloader:\n",
        "\n",
        "       imagens= imagens.view(imagens.shape[0],-1) #convertendo as imagens para \"vetores\" de 28*28 casas para ficarem compatíveis com a\n",
        "       otimizador.zero_grad() #zerando os gradientes por conta do ciclo anterior\n",
        "\n",
        "       output = modelo(imagens.to(device)) #colocando os dados no modelo\n",
        "       perda_instantanea = criterio(output, etiquetas.to(device)) #calculando a perda da epoch em questão\n",
        "\n",
        "       perda_instantanea.backward() #back propagation a partir da perda\n",
        "\n",
        "       otimizador.step() #atualizando os pesos e as BIAS\n",
        "\n",
        "       perda_acumulada += perda_instantanea.item() #atualização da perda acumulada\n",
        "\n",
        "    else:\n",
        "      print(\"Epoch {} - Perda resultante: {}\".format(epoch+1, perda_acumulada/len(trainloader)))\n",
        "      print(\"\\nTempo de treino (em minutos) =\", (time() - inicio)/60)   \n",
        "\n"
      ],
      "metadata": {
        "id": "vrlUAwdl43A9"
      },
      "execution_count": 17,
      "outputs": []
    },
    {
      "cell_type": "code",
      "source": [
        "#Algoritmo para validar a base de treino, ou seja, vai chamar a imagem para rede neural\n",
        "def validacao(modelo, valloader, device):\n",
        "  conta_corretas, conta_toadas = 0 ,0\n",
        "  for imagens, etiquetas in valloader:\n",
        "    for i in range(len(etiquetas)):\n",
        "      img = imagens[i].view(1, 784)\n",
        "      #desativar o autgrad para acelerar a validação. Grafos computacionais dinâmicos tem um custo alto de processamento\n",
        "      with torch.no_grad():\n",
        "        logps = modelo(img.to(device)) #output do modelo em escala logaritmica\n",
        "\n",
        "      ps = torch.exp(logps)  #converte output para escala normal (lembrando que é um tensor)\n",
        "      probab = list(ps.cpu().numpy()[0])\n",
        "      etiqueta_pred = probab.index(max(probab)) #converte o tensor em um número, no caso, o número que o modelo previu como correto\n",
        "      etiqueta_certa = etiquetas.numpy()[i]\n",
        "      if(etiqueta_certa == etiqueta_pred): #compara a previsão com o valor correto\n",
        "         conta_corretas += 1\n",
        "         conta_todas +=1\n",
        "\n",
        "    print(\"Total de imagens testadas =\", conta_todas)   \n",
        "    print(\"\\nPrecisao do modelo = {}%\".format(conta_corretas*100/conta_todas))\n"
      ],
      "metadata": {
        "id": "z9SRxll78h8P"
      },
      "execution_count": 18,
      "outputs": []
    },
    {
      "cell_type": "code",
      "source": [
        "#leitura do modelo que vai ser executado na máquina do próprio google, mas poderia ser placa nvidia\n",
        "\n",
        "modelo = Modelo()\n",
        "device = torch.device(\"cuda\" if torch.cuda.is_available() else \"cpu\")\n",
        "modelo.to(device)"
      ],
      "metadata": {
        "colab": {
          "base_uri": "https://localhost:8080/"
        },
        "id": "SfjgiffDCCqL",
        "outputId": "0b3e0015-dbe9-498c-b3cc-cc53f0a17228"
      },
      "execution_count": 19,
      "outputs": [
        {
          "output_type": "execute_result",
          "data": {
            "text/plain": [
              "Modelo(\n",
              "  (linear1): Linear(in_features=784, out_features=128, bias=True)\n",
              "  (linear2): Linear(in_features=128, out_features=64, bias=True)\n",
              "  (linear3): Linear(in_features=64, out_features=10, bias=True)\n",
              ")"
            ]
          },
          "metadata": {},
          "execution_count": 19
        }
      ]
    },
    {
      "cell_type": "code",
      "source": [],
      "metadata": {
        "id": "6ZppfbogCkfq"
      },
      "execution_count": null,
      "outputs": []
    }
  ]
}